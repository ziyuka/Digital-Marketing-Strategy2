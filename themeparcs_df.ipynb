{
 "cells": [
  {
   "cell_type": "markdown",
   "metadata": {},
   "source": [
    "## Digital Marketing Strategy\n",
    "\n",
    "In this Python file we investigate which factors drive consumers engagement with brand post popularity with U.S. theme parc posts on Facebook"
   ]
  },
  {
   "cell_type": "code",
   "execution_count": 390,
   "metadata": {},
   "outputs": [],
   "source": [
    "# Import libraries\n",
    "import numpy as np\n",
    "import pandas as pd\n",
    "import os"
   ]
  },
  {
   "cell_type": "code",
   "execution_count": 391,
   "metadata": {},
   "outputs": [
    {
     "data": {
      "text/plain": [
       "'c:\\\\Users\\\\yunus\\\\Desktop\\\\MSc\\\\Digital Driven Business\\\\Subjects\\\\Digital Marketing Strategy\\\\Dataset\\\\Digital-Marketing-Strategy2'"
      ]
     },
     "execution_count": 391,
     "metadata": {},
     "output_type": "execute_result"
    }
   ],
   "source": [
    "# Check current path\n",
    "current_directory = os.getcwd()\n",
    "current_directory"
   ]
  },
  {
   "cell_type": "code",
   "execution_count": 392,
   "metadata": {},
   "outputs": [],
   "source": [
    "# Define path\n",
    "os.chdir(\"C:\\\\Users\\\\yunus\\\\Desktop\\\\MSc\\\\Digital Driven Business\\\\Subjects\\\\Digital Marketing Strategy\\\\Dataset\\\\Digital-Marketing-Strategy2\")"
   ]
  },
  {
   "cell_type": "code",
   "execution_count": 393,
   "metadata": {},
   "outputs": [],
   "source": [
    "# read the csv\n",
    "# Assuming semicolon is the correct delimiter for each CSV file\n",
    "themepark_1 = pd.read_csv(\"Themeparcs I.csv\", sep=';', on_bad_lines='skip')\n",
    "themepark_2 = pd.read_csv(\"Themeparcs II.csv\", sep=';', on_bad_lines='skip')\n",
    "themepark_3 = pd.read_csv(\"Themeparcs III.csv\", sep=';', on_bad_lines='skip')\n",
    "themepark_4 = pd.read_csv(\"Themeparcs IV.csv\", sep=';', on_bad_lines='skip')"
   ]
  },
  {
   "cell_type": "markdown",
   "metadata": {},
   "source": [
    "## 1. Exploratoy Data Analysis (EDA) & Data Cleaning"
   ]
  },
  {
   "cell_type": "markdown",
   "metadata": {},
   "source": [
    "1.1 Check shape of `themepark_1`, `themepark_2`, `themepark_3` & `themepark_4`"
   ]
  },
  {
   "cell_type": "code",
   "execution_count": 394,
   "metadata": {},
   "outputs": [
    {
     "data": {
      "text/plain": [
       "(5000, 18)"
      ]
     },
     "execution_count": 394,
     "metadata": {},
     "output_type": "execute_result"
    }
   ],
   "source": [
    "themepark_1.shape"
   ]
  },
  {
   "cell_type": "code",
   "execution_count": 395,
   "metadata": {},
   "outputs": [
    {
     "data": {
      "text/plain": [
       "(5000, 18)"
      ]
     },
     "execution_count": 395,
     "metadata": {},
     "output_type": "execute_result"
    }
   ],
   "source": [
    "themepark_2.shape"
   ]
  },
  {
   "cell_type": "code",
   "execution_count": 396,
   "metadata": {},
   "outputs": [
    {
     "data": {
      "text/plain": [
       "(5000, 18)"
      ]
     },
     "execution_count": 396,
     "metadata": {},
     "output_type": "execute_result"
    }
   ],
   "source": [
    "themepark_3.shape"
   ]
  },
  {
   "cell_type": "code",
   "execution_count": 397,
   "metadata": {},
   "outputs": [
    {
     "data": {
      "text/plain": [
       "(443, 18)"
      ]
     },
     "execution_count": 397,
     "metadata": {},
     "output_type": "execute_result"
    }
   ],
   "source": [
    "themepark_4.shape"
   ]
  },
  {
   "cell_type": "code",
   "execution_count": 398,
   "metadata": {},
   "outputs": [
    {
     "data": {
      "text/plain": [
       "15443"
      ]
     },
     "execution_count": 398,
     "metadata": {},
     "output_type": "execute_result"
    }
   ],
   "source": [
    "# Amount of total rows for each df\n",
    "5000+5000+5000+443"
   ]
  },
  {
   "cell_type": "markdown",
   "metadata": {},
   "source": [
    "1.2 Check features of `themepark_1`, `themepark_2`, `themepark_3` & `themepark_4`"
   ]
  },
  {
   "cell_type": "code",
   "execution_count": 399,
   "metadata": {},
   "outputs": [
    {
     "data": {
      "text/plain": [
       "Date                             object\n",
       "Profile                          object\n",
       "Message                          object\n",
       "Number of Reactions             float64\n",
       "Number of Shares                float64\n",
       "Number of Comments (primary)    float64\n",
       "Number of Shares.1              float64\n",
       "Comments per post               float64\n",
       "Comments on posts by fans       float64\n",
       "Post interaction rate            object\n",
       "Engagement                       object\n",
       "Number of Likes                 float64\n",
       "Link-posts                      float64\n",
       "Picture Posts                   float64\n",
       "Video-posts                     float64\n",
       "Profile-ID                       object\n",
       "Post-ID                          object\n",
       "Link                             object\n",
       "dtype: object"
      ]
     },
     "execution_count": 399,
     "metadata": {},
     "output_type": "execute_result"
    }
   ],
   "source": [
    "themepark_1.dtypes"
   ]
  },
  {
   "cell_type": "code",
   "execution_count": 400,
   "metadata": {},
   "outputs": [
    {
     "data": {
      "text/plain": [
       "Date                             object\n",
       "Profile                          object\n",
       "Message                          object\n",
       "Number of Reactions             float64\n",
       "Number of Shares                float64\n",
       "Number of Comments (primary)    float64\n",
       "Number of Shares.1              float64\n",
       "Comments per post               float64\n",
       "Comments on posts by fans       float64\n",
       "Post interaction rate            object\n",
       "Engagement                       object\n",
       "Number of Likes                 float64\n",
       "Link-posts                      float64\n",
       "Picture Posts                   float64\n",
       "Video-posts                     float64\n",
       "Profile-ID                       object\n",
       "Post-ID                          object\n",
       "Link                             object\n",
       "dtype: object"
      ]
     },
     "execution_count": 400,
     "metadata": {},
     "output_type": "execute_result"
    }
   ],
   "source": [
    "themepark_2.dtypes"
   ]
  },
  {
   "cell_type": "code",
   "execution_count": 401,
   "metadata": {},
   "outputs": [
    {
     "data": {
      "text/plain": [
       "Date                             object\n",
       "Profile                          object\n",
       "Message                          object\n",
       "Number of Reactions             float64\n",
       "Number of Shares                float64\n",
       "Number of Comments (primary)    float64\n",
       "Number of Shares.1              float64\n",
       "Comments per post               float64\n",
       "Comments on posts by fans       float64\n",
       "Post interaction rate            object\n",
       "Engagement                       object\n",
       "Number of Likes                 float64\n",
       "Link-posts                      float64\n",
       "Picture Posts                   float64\n",
       "Video-posts                     float64\n",
       "Profile-ID                       object\n",
       "Post-ID                          object\n",
       "Link                             object\n",
       "dtype: object"
      ]
     },
     "execution_count": 401,
     "metadata": {},
     "output_type": "execute_result"
    }
   ],
   "source": [
    "themepark_3.dtypes"
   ]
  },
  {
   "cell_type": "code",
   "execution_count": 402,
   "metadata": {},
   "outputs": [
    {
     "data": {
      "text/plain": [
       "Date                             object\n",
       "Profile                          object\n",
       "Message                          object\n",
       "Number of Reactions             float64\n",
       "Number of Shares                float64\n",
       "Number of Comments (primary)    float64\n",
       "Number of Shares.1              float64\n",
       "Comments per post               float64\n",
       "Comments on posts by fans       float64\n",
       "Post interaction rate            object\n",
       "Engagement                       object\n",
       "Number of Likes                 float64\n",
       "Link-posts                      float64\n",
       "Picture Posts                   float64\n",
       "Video-posts                     float64\n",
       "Profile-ID                       object\n",
       "Post-ID                          object\n",
       "Link                             object\n",
       "dtype: object"
      ]
     },
     "execution_count": 402,
     "metadata": {},
     "output_type": "execute_result"
    }
   ],
   "source": [
    "themepark_4.dtypes"
   ]
  },
  {
   "cell_type": "markdown",
   "metadata": {},
   "source": [
    "1.3 Merge `themepark_1`, `themepark_2`, `themepark_3` & `themepark_4` since each DataFrame consists of the same features"
   ]
  },
  {
   "cell_type": "code",
   "execution_count": 403,
   "metadata": {},
   "outputs": [],
   "source": [
    "# Show the first couple of rows of the first csv file \n",
    "# themepark_1.head()"
   ]
  },
  {
   "cell_type": "code",
   "execution_count": 404,
   "metadata": {},
   "outputs": [],
   "source": [
    "# Merge the DataFrames\n",
    "merged_themepark = pd.concat([themepark_1, themepark_2, themepark_3, themepark_4], ignore_index=True)\n",
    "\n",
    "# If you want to save the merged DataFrame to a new CSV file\n",
    "# merged_themepark.to_csv(\"Merged_Themeparks.csv\", index=False)"
   ]
  },
  {
   "cell_type": "code",
   "execution_count": 405,
   "metadata": {},
   "outputs": [],
   "source": [
    "# merged_themepark.to_csv"
   ]
  },
  {
   "cell_type": "code",
   "execution_count": 406,
   "metadata": {},
   "outputs": [],
   "source": [
    "# Split the single column into multiple columns using the semicolon delimiter\n",
    "# split_data = merged_themepark[merged_themepark.columns[0]].str.split(';', expand=True)"
   ]
  },
  {
   "cell_type": "code",
   "execution_count": 407,
   "metadata": {},
   "outputs": [],
   "source": [
    "# Assign the new DataFrame columns to the correct names\n",
    "# Replace these names with the actual column names you expect based on your data\n",
    "# column_names = ['Date', 'Profile', 'Message', 'Number of Reactions', 'Number of Shares', \n",
    "#                'Number of Comments (primary)', 'Number of Shares', 'Comments per post', \n",
    "#                'Comments on posts by fans', 'Post interaction rate', 'Engagement', \n",
    "#                'Number of Likes', 'Link-posts', 'Picture Posts', 'Video-posts', \n",
    "#                'Profile-ID', 'Post-ID', 'Link']"
   ]
  },
  {
   "cell_type": "code",
   "execution_count": 408,
   "metadata": {},
   "outputs": [],
   "source": [
    "# Ensure the number of column names matches the number of columns in 'split_data'\n",
    "# if len(column_names) == split_data.shape[1]:\n",
    "#    split_data.columns = column_names\n",
    "# else:\n",
    "#    print(\"The number of provided column names does not match the number of columns in the data.\")  "
   ]
  },
  {
   "cell_type": "code",
   "execution_count": 410,
   "metadata": {},
   "outputs": [
    {
     "data": {
      "text/html": [
       "<div>\n",
       "<style scoped>\n",
       "    .dataframe tbody tr th:only-of-type {\n",
       "        vertical-align: middle;\n",
       "    }\n",
       "\n",
       "    .dataframe tbody tr th {\n",
       "        vertical-align: top;\n",
       "    }\n",
       "\n",
       "    .dataframe thead th {\n",
       "        text-align: right;\n",
       "    }\n",
       "</style>\n",
       "<table border=\"1\" class=\"dataframe\">\n",
       "  <thead>\n",
       "    <tr style=\"text-align: right;\">\n",
       "      <th></th>\n",
       "      <th>Number of Reactions</th>\n",
       "      <th>Number of Shares</th>\n",
       "      <th>Number of Comments (primary)</th>\n",
       "      <th>Number of Shares.1</th>\n",
       "      <th>Comments per post</th>\n",
       "      <th>Comments on posts by fans</th>\n",
       "      <th>Number of Likes</th>\n",
       "      <th>Link-posts</th>\n",
       "      <th>Picture Posts</th>\n",
       "      <th>Video-posts</th>\n",
       "    </tr>\n",
       "  </thead>\n",
       "  <tbody>\n",
       "    <tr>\n",
       "      <th>count</th>\n",
       "      <td>15443.000000</td>\n",
       "      <td>0.0</td>\n",
       "      <td>15443.000000</td>\n",
       "      <td>15443.000000</td>\n",
       "      <td>15443.000000</td>\n",
       "      <td>15443.000000</td>\n",
       "      <td>15443.000000</td>\n",
       "      <td>555.0</td>\n",
       "      <td>11562.0</td>\n",
       "      <td>2479.0</td>\n",
       "    </tr>\n",
       "    <tr>\n",
       "      <th>mean</th>\n",
       "      <td>494.282911</td>\n",
       "      <td>NaN</td>\n",
       "      <td>34.199702</td>\n",
       "      <td>62.078288</td>\n",
       "      <td>52.954737</td>\n",
       "      <td>52.954737</td>\n",
       "      <td>355.763453</td>\n",
       "      <td>1.0</td>\n",
       "      <td>1.0</td>\n",
       "      <td>1.0</td>\n",
       "    </tr>\n",
       "    <tr>\n",
       "      <th>std</th>\n",
       "      <td>3717.067171</td>\n",
       "      <td>NaN</td>\n",
       "      <td>182.409237</td>\n",
       "      <td>507.937148</td>\n",
       "      <td>265.913045</td>\n",
       "      <td>265.913045</td>\n",
       "      <td>2509.935344</td>\n",
       "      <td>0.0</td>\n",
       "      <td>0.0</td>\n",
       "      <td>0.0</td>\n",
       "    </tr>\n",
       "    <tr>\n",
       "      <th>min</th>\n",
       "      <td>0.000000</td>\n",
       "      <td>NaN</td>\n",
       "      <td>0.000000</td>\n",
       "      <td>0.000000</td>\n",
       "      <td>0.000000</td>\n",
       "      <td>0.000000</td>\n",
       "      <td>0.000000</td>\n",
       "      <td>1.0</td>\n",
       "      <td>1.0</td>\n",
       "      <td>1.0</td>\n",
       "    </tr>\n",
       "    <tr>\n",
       "      <th>25%</th>\n",
       "      <td>22.000000</td>\n",
       "      <td>NaN</td>\n",
       "      <td>1.000000</td>\n",
       "      <td>2.000000</td>\n",
       "      <td>1.000000</td>\n",
       "      <td>1.000000</td>\n",
       "      <td>19.000000</td>\n",
       "      <td>1.0</td>\n",
       "      <td>1.0</td>\n",
       "      <td>1.0</td>\n",
       "    </tr>\n",
       "    <tr>\n",
       "      <th>50%</th>\n",
       "      <td>67.000000</td>\n",
       "      <td>NaN</td>\n",
       "      <td>6.000000</td>\n",
       "      <td>6.000000</td>\n",
       "      <td>8.000000</td>\n",
       "      <td>8.000000</td>\n",
       "      <td>55.000000</td>\n",
       "      <td>1.0</td>\n",
       "      <td>1.0</td>\n",
       "      <td>1.0</td>\n",
       "    </tr>\n",
       "    <tr>\n",
       "      <th>75%</th>\n",
       "      <td>217.000000</td>\n",
       "      <td>NaN</td>\n",
       "      <td>18.000000</td>\n",
       "      <td>21.000000</td>\n",
       "      <td>27.000000</td>\n",
       "      <td>27.000000</td>\n",
       "      <td>177.000000</td>\n",
       "      <td>1.0</td>\n",
       "      <td>1.0</td>\n",
       "      <td>1.0</td>\n",
       "    </tr>\n",
       "    <tr>\n",
       "      <th>max</th>\n",
       "      <td>210756.000000</td>\n",
       "      <td>NaN</td>\n",
       "      <td>8379.000000</td>\n",
       "      <td>30762.000000</td>\n",
       "      <td>11170.000000</td>\n",
       "      <td>11170.000000</td>\n",
       "      <td>124591.000000</td>\n",
       "      <td>1.0</td>\n",
       "      <td>1.0</td>\n",
       "      <td>1.0</td>\n",
       "    </tr>\n",
       "  </tbody>\n",
       "</table>\n",
       "</div>"
      ],
      "text/plain": [
       "       Number of Reactions  Number of Shares  Number of Comments (primary)  \\\n",
       "count         15443.000000               0.0                  15443.000000   \n",
       "mean            494.282911               NaN                     34.199702   \n",
       "std            3717.067171               NaN                    182.409237   \n",
       "min               0.000000               NaN                      0.000000   \n",
       "25%              22.000000               NaN                      1.000000   \n",
       "50%              67.000000               NaN                      6.000000   \n",
       "75%             217.000000               NaN                     18.000000   \n",
       "max          210756.000000               NaN                   8379.000000   \n",
       "\n",
       "       Number of Shares.1  Comments per post  Comments on posts by fans  \\\n",
       "count        15443.000000       15443.000000               15443.000000   \n",
       "mean            62.078288          52.954737                  52.954737   \n",
       "std            507.937148         265.913045                 265.913045   \n",
       "min              0.000000           0.000000                   0.000000   \n",
       "25%              2.000000           1.000000                   1.000000   \n",
       "50%              6.000000           8.000000                   8.000000   \n",
       "75%             21.000000          27.000000                  27.000000   \n",
       "max          30762.000000       11170.000000               11170.000000   \n",
       "\n",
       "       Number of Likes  Link-posts  Picture Posts  Video-posts  \n",
       "count     15443.000000       555.0        11562.0       2479.0  \n",
       "mean        355.763453         1.0            1.0          1.0  \n",
       "std        2509.935344         0.0            0.0          0.0  \n",
       "min           0.000000         1.0            1.0          1.0  \n",
       "25%          19.000000         1.0            1.0          1.0  \n",
       "50%          55.000000         1.0            1.0          1.0  \n",
       "75%         177.000000         1.0            1.0          1.0  \n",
       "max      124591.000000         1.0            1.0          1.0  "
      ]
     },
     "execution_count": 410,
     "metadata": {},
     "output_type": "execute_result"
    }
   ],
   "source": [
    "merged_themepark.describe()"
   ]
  },
  {
   "cell_type": "markdown",
   "metadata": {},
   "source": [
    "\n",
    "- Number of Reactions: A count of all reactions (likes, loves, etc.) to the posts.\n",
    "- Number of Shares: The count of times the posts have been shared. This column seems to have an issue as it shows all zeros or may missing data.\n",
    "- Number of Comments (primary): The total number of primary comments made on the posts.\n",
    "- Number of Shares.1: Appears to be a duplicate or corrected column for the number of shares with actual non-zero data.\n",
    "- Comments per post: An average of how many comments were made per post.\n",
    "- Comments on posts by fans: The total number of comments made by fans on the posts.\n",
    "- Number of Likes: A count of likes specifically, as opposed to all reactions.\n",
    "- Link-posts: The number of posts that contain links.\n",
    "- Picture Posts: The number of posts that contain pictures.\n",
    "- Video-posts: The number of posts that contain videos."
   ]
  },
  {
   "cell_type": "code",
   "execution_count": 422,
   "metadata": {},
   "outputs": [
    {
     "data": {
      "text/plain": [
       "(15443, 18)"
      ]
     },
     "execution_count": 422,
     "metadata": {},
     "output_type": "execute_result"
    }
   ],
   "source": [
    "merged_themepark.shape"
   ]
  },
  {
   "cell_type": "code",
   "execution_count": 411,
   "metadata": {},
   "outputs": [
    {
     "data": {
      "text/html": [
       "<div>\n",
       "<style scoped>\n",
       "    .dataframe tbody tr th:only-of-type {\n",
       "        vertical-align: middle;\n",
       "    }\n",
       "\n",
       "    .dataframe tbody tr th {\n",
       "        vertical-align: top;\n",
       "    }\n",
       "\n",
       "    .dataframe thead th {\n",
       "        text-align: right;\n",
       "    }\n",
       "</style>\n",
       "<table border=\"1\" class=\"dataframe\">\n",
       "  <thead>\n",
       "    <tr style=\"text-align: right;\">\n",
       "      <th></th>\n",
       "      <th>Date</th>\n",
       "      <th>Profile</th>\n",
       "      <th>Message</th>\n",
       "      <th>Number of Reactions</th>\n",
       "      <th>Number of Shares</th>\n",
       "      <th>Number of Comments (primary)</th>\n",
       "      <th>Number of Shares.1</th>\n",
       "      <th>Comments per post</th>\n",
       "      <th>Comments on posts by fans</th>\n",
       "      <th>Post interaction rate</th>\n",
       "      <th>Engagement</th>\n",
       "      <th>Number of Likes</th>\n",
       "      <th>Link-posts</th>\n",
       "      <th>Picture Posts</th>\n",
       "      <th>Video-posts</th>\n",
       "      <th>Profile-ID</th>\n",
       "      <th>Post-ID</th>\n",
       "      <th>Link</th>\n",
       "    </tr>\n",
       "  </thead>\n",
       "  <tbody>\n",
       "    <tr>\n",
       "      <th>0</th>\n",
       "      <td>12/31/23 9:40 PM</td>\n",
       "      <td>Wild Adventures Theme Park</td>\n",
       "      <td>🎟️🚨 Today's the FINAL day to use your 2023 Sea...</td>\n",
       "      <td>16.0</td>\n",
       "      <td>NaN</td>\n",
       "      <td>2.0</td>\n",
       "      <td>2.0</td>\n",
       "      <td>2.0</td>\n",
       "      <td>2.0</td>\n",
       "      <td>1,09E+12</td>\n",
       "      <td>1,09E+12</td>\n",
       "      <td>13.0</td>\n",
       "      <td>NaN</td>\n",
       "      <td>1.0</td>\n",
       "      <td>NaN</td>\n",
       "      <td>84679583132</td>\n",
       "      <td>84679583132_770120045161180</td>\n",
       "      <td>https://www.facebook.com/617429960430190/posts...</td>\n",
       "    </tr>\n",
       "    <tr>\n",
       "      <th>1</th>\n",
       "      <td>12/31/23 8:01 PM</td>\n",
       "      <td>Fun Spot America</td>\n",
       "      <td>See you next year! 😉                Don’t miss...</td>\n",
       "      <td>38.0</td>\n",
       "      <td>NaN</td>\n",
       "      <td>1.0</td>\n",
       "      <td>2.0</td>\n",
       "      <td>1.0</td>\n",
       "      <td>1.0</td>\n",
       "      <td>4,17E+11</td>\n",
       "      <td>4,17E+11</td>\n",
       "      <td>33.0</td>\n",
       "      <td>NaN</td>\n",
       "      <td>NaN</td>\n",
       "      <td>NaN</td>\n",
       "      <td>1,8402E+11</td>\n",
       "      <td>184020466977_767286052104076</td>\n",
       "      <td>https://www.facebook.com/653224623510220/posts...</td>\n",
       "    </tr>\n",
       "    <tr>\n",
       "      <th>2</th>\n",
       "      <td>12/31/23 7:30 PM</td>\n",
       "      <td>Fun Spot America</td>\n",
       "      <td>Don't miss our HUGE firework display ! 🥳\\n\\n#f...</td>\n",
       "      <td>23.0</td>\n",
       "      <td>NaN</td>\n",
       "      <td>2.0</td>\n",
       "      <td>3.0</td>\n",
       "      <td>2.0</td>\n",
       "      <td>2.0</td>\n",
       "      <td>2,85E+11</td>\n",
       "      <td>2,85E+11</td>\n",
       "      <td>21.0</td>\n",
       "      <td>NaN</td>\n",
       "      <td>NaN</td>\n",
       "      <td>1.0</td>\n",
       "      <td>1,8402E+11</td>\n",
       "      <td>184020466977_767267948772553</td>\n",
       "      <td>https://www.facebook.com/653224623510220/posts...</td>\n",
       "    </tr>\n",
       "    <tr>\n",
       "      <th>3</th>\n",
       "      <td>12/31/23 7:00 PM</td>\n",
       "      <td>Disneyland Paris</td>\n",
       "      <td>Fijne jaarwisseling! 🥂🎉\\nEn tot volgend jaar 😉</td>\n",
       "      <td>646.0</td>\n",
       "      <td>NaN</td>\n",
       "      <td>52.0</td>\n",
       "      <td>12.0</td>\n",
       "      <td>56.0</td>\n",
       "      <td>56.0</td>\n",
       "      <td>1,36E+11</td>\n",
       "      <td>1,36E+11</td>\n",
       "      <td>478.0</td>\n",
       "      <td>NaN</td>\n",
       "      <td>1.0</td>\n",
       "      <td>NaN</td>\n",
       "      <td>6,52389E+14</td>\n",
       "      <td>652389081615295_775974521237956</td>\n",
       "      <td>https://www.facebook.com/724434559725286/posts...</td>\n",
       "    </tr>\n",
       "    <tr>\n",
       "      <th>4</th>\n",
       "      <td>12/31/23 7:00 PM</td>\n",
       "      <td>Silverwood Theme Park</td>\n",
       "      <td>It's the last day of our New Year's Sale! Save...</td>\n",
       "      <td>17.0</td>\n",
       "      <td>NaN</td>\n",
       "      <td>2.0</td>\n",
       "      <td>0.0</td>\n",
       "      <td>2.0</td>\n",
       "      <td>2.0</td>\n",
       "      <td>4,96E+11</td>\n",
       "      <td>4,96E+11</td>\n",
       "      <td>16.0</td>\n",
       "      <td>NaN</td>\n",
       "      <td>NaN</td>\n",
       "      <td>1.0</td>\n",
       "      <td>7,62702E+14</td>\n",
       "      <td>762701550509617_678920137770716</td>\n",
       "      <td>https://www.facebook.com/562559642740100/posts...</td>\n",
       "    </tr>\n",
       "  </tbody>\n",
       "</table>\n",
       "</div>"
      ],
      "text/plain": [
       "               Date                     Profile  \\\n",
       "0  12/31/23 9:40 PM  Wild Adventures Theme Park   \n",
       "1  12/31/23 8:01 PM            Fun Spot America   \n",
       "2  12/31/23 7:30 PM            Fun Spot America   \n",
       "3  12/31/23 7:00 PM            Disneyland Paris   \n",
       "4  12/31/23 7:00 PM       Silverwood Theme Park   \n",
       "\n",
       "                                             Message  Number of Reactions  \\\n",
       "0  🎟️🚨 Today's the FINAL day to use your 2023 Sea...                 16.0   \n",
       "1  See you next year! 😉                Don’t miss...                 38.0   \n",
       "2  Don't miss our HUGE firework display ! 🥳\\n\\n#f...                 23.0   \n",
       "3     Fijne jaarwisseling! 🥂🎉\\nEn tot volgend jaar 😉                646.0   \n",
       "4  It's the last day of our New Year's Sale! Save...                 17.0   \n",
       "\n",
       "   Number of Shares  Number of Comments (primary)  Number of Shares.1  \\\n",
       "0               NaN                           2.0                 2.0   \n",
       "1               NaN                           1.0                 2.0   \n",
       "2               NaN                           2.0                 3.0   \n",
       "3               NaN                          52.0                12.0   \n",
       "4               NaN                           2.0                 0.0   \n",
       "\n",
       "   Comments per post  Comments on posts by fans Post interaction rate  \\\n",
       "0                2.0                        2.0              1,09E+12   \n",
       "1                1.0                        1.0              4,17E+11   \n",
       "2                2.0                        2.0              2,85E+11   \n",
       "3               56.0                       56.0              1,36E+11   \n",
       "4                2.0                        2.0              4,96E+11   \n",
       "\n",
       "  Engagement  Number of Likes  Link-posts  Picture Posts  Video-posts  \\\n",
       "0   1,09E+12             13.0         NaN            1.0          NaN   \n",
       "1   4,17E+11             33.0         NaN            NaN          NaN   \n",
       "2   2,85E+11             21.0         NaN            NaN          1.0   \n",
       "3   1,36E+11            478.0         NaN            1.0          NaN   \n",
       "4   4,96E+11             16.0         NaN            NaN          1.0   \n",
       "\n",
       "    Profile-ID                          Post-ID  \\\n",
       "0  84679583132      84679583132_770120045161180   \n",
       "1   1,8402E+11     184020466977_767286052104076   \n",
       "2   1,8402E+11     184020466977_767267948772553   \n",
       "3  6,52389E+14  652389081615295_775974521237956   \n",
       "4  7,62702E+14  762701550509617_678920137770716   \n",
       "\n",
       "                                                Link  \n",
       "0  https://www.facebook.com/617429960430190/posts...  \n",
       "1  https://www.facebook.com/653224623510220/posts...  \n",
       "2  https://www.facebook.com/653224623510220/posts...  \n",
       "3  https://www.facebook.com/724434559725286/posts...  \n",
       "4  https://www.facebook.com/562559642740100/posts...  "
      ]
     },
     "execution_count": 411,
     "metadata": {},
     "output_type": "execute_result"
    }
   ],
   "source": [
    "# Print the first rows \n",
    "merged_themepark.head()"
   ]
  },
  {
   "cell_type": "markdown",
   "metadata": {},
   "source": [
    "- Date: The date and time when the post was made\n",
    "- Profile: The name of the page or profile that made the post\n",
    "- Message: The content or message of the post\n",
    "- Number of Reactions: The total count of reactions (like, love, haha, etc.) received by the post\n",
    "- Number of Shares: The total number of times the post has been shared\n",
    "- Number of Comments (primary): The initial number of comments on the post\n",
    "- Comments per post: The average number of comments per post\n",
    "- Comments on posts by fans: The number of comments made by fans on the posts\n",
    "- Post interaction: Interaction count for the post, which might include reactions, comments, and shares\n",
    "- Engagement rate: A metric that shows the level of engagement users have with the post\n",
    "- Number of Likes: The number of 'like' reactions to the post\n",
    "- Link-posts: If the post includes a link, this might indicate the presence of it\n",
    "- Picture Posts: Indicates if the post contains a picture\n",
    "- Video-posts: Indicates if the post includes a video\n",
    "- Profile-ID: A unique identifier for the profile or page that made the post\n",
    "- Post-ID: A unique identifier for the post itself\n",
    "- Link: A URL to the post on the platform it was published\n"
   ]
  },
  {
   "cell_type": "markdown",
   "metadata": {},
   "source": [
    "**Conclusion**\n",
    "- `Date` consists of data and time in one feature\n",
    "- Seeing that `Profile` contains of theme parcs outside the U.S.\n",
    "- `Message` varies in length, use of symbols and emoticons\n",
    "- `Number of shares` consists completely out non values (NaN). However, `Number of shares` consists of values. Therefore, we'll drop `Number of shares`\n",
    "- `Post interaction rate` and `Engagement rate` both needs to by scaled for further cleaning\n",
    "- Since `Profile-ID` is a unique identifier for the profile- and post, we'll put this feature most left of the DataFrame\n",
    "- `Post-ID` is being next to `Profile-ID`\n"
   ]
  },
  {
   "cell_type": "code",
   "execution_count": 412,
   "metadata": {},
   "outputs": [
    {
     "name": "stderr",
     "output_type": "stream",
     "text": [
      "C:\\Users\\yunus\\AppData\\Local\\Temp\\ipykernel_4464\\1775473985.py:2: UserWarning: The argument 'infer_datetime_format' is deprecated and will be removed in a future version. A strict version of it is now the default, see https://pandas.pydata.org/pdeps/0004-consistent-to-datetime-parsing.html. You can safely remove this argument.\n",
      "  merged_themepark['Date'] = pd.to_datetime(merged_themepark['Date'], infer_datetime_format=True)\n",
      "C:\\Users\\yunus\\AppData\\Local\\Temp\\ipykernel_4464\\1775473985.py:2: UserWarning: Could not infer format, so each element will be parsed individually, falling back to `dateutil`. To ensure parsing is consistent and as-expected, please specify a format.\n",
      "  merged_themepark['Date'] = pd.to_datetime(merged_themepark['Date'], infer_datetime_format=True)\n"
     ]
    }
   ],
   "source": [
    "# Exact date format to parse it more efficiently by inferring datetime format\n",
    "merged_themepark['Date'] = pd.to_datetime(merged_themepark['Date'], infer_datetime_format=True)"
   ]
  },
  {
   "cell_type": "code",
   "execution_count": 413,
   "metadata": {},
   "outputs": [],
   "source": [
    "# Create a Time feature\n",
    "merged_themepark['New_Date'] = merged_themepark['Date'].dt.date\n",
    "merged_themepark['Time'] = merged_themepark['Date'].dt.time\n",
    "\n",
    "# Now drop the original 'Date' column since it has been split\n",
    "merged_themepark = merged_themepark.drop('Date', axis=1)"
   ]
  },
  {
   "cell_type": "code",
   "execution_count": 414,
   "metadata": {},
   "outputs": [],
   "source": [
    "# Change feature format\n",
    "merged_themepark = merged_themepark[['Profile-ID', 'Post-ID', 'Profile', 'Message', 'New_Date', 'Time', 'Number of Reactions', 'Number of Comments (primary)', 'Number of Shares.1', 'Comments per post', 'Comments on posts by fans', 'Post interaction rate', 'Engagement', 'Number of Likes', 'Link-posts', 'Picture Posts', 'Video-posts', 'Link']]"
   ]
  },
  {
   "cell_type": "code",
   "execution_count": 415,
   "metadata": {},
   "outputs": [
    {
     "data": {
      "text/plain": [
       "Profile-ID                          0\n",
       "Post-ID                             0\n",
       "Profile                             0\n",
       "Message                             0\n",
       "New_Date                            0\n",
       "Time                                0\n",
       "Number of Reactions                 0\n",
       "Number of Comments (primary)        0\n",
       "Number of Shares.1                  0\n",
       "Comments per post                   0\n",
       "Comments on posts by fans           0\n",
       "Post interaction rate               0\n",
       "Engagement                          0\n",
       "Number of Likes                     0\n",
       "Link-posts                      14888\n",
       "Picture Posts                    3881\n",
       "Video-posts                     12964\n",
       "Link                                0\n",
       "dtype: int64"
      ]
     },
     "execution_count": 415,
     "metadata": {},
     "output_type": "execute_result"
    }
   ],
   "source": [
    "# Check for missing values\n",
    "merged_themepark.isnull().sum()"
   ]
  },
  {
   "cell_type": "code",
   "execution_count": 416,
   "metadata": {},
   "outputs": [
    {
     "data": {
      "text/plain": [
       "Profile-ID                       object\n",
       "Post-ID                          object\n",
       "Profile                          object\n",
       "Message                          object\n",
       "New_Date                         object\n",
       "Time                             object\n",
       "Number of Reactions             float64\n",
       "Number of Comments (primary)    float64\n",
       "Number of Shares.1              float64\n",
       "Comments per post               float64\n",
       "Comments on posts by fans       float64\n",
       "Post interaction rate            object\n",
       "Engagement                       object\n",
       "Number of Likes                 float64\n",
       "Link-posts                      float64\n",
       "Picture Posts                   float64\n",
       "Video-posts                     float64\n",
       "Link                             object\n",
       "dtype: object"
      ]
     },
     "execution_count": 416,
     "metadata": {},
     "output_type": "execute_result"
    }
   ],
   "source": [
    "# Check for dtypes of each feature\n",
    "merged_themepark.dtypes"
   ]
  },
  {
   "cell_type": "code",
   "execution_count": 421,
   "metadata": {},
   "outputs": [
    {
     "data": {
      "text/html": [
       "<div>\n",
       "<style scoped>\n",
       "    .dataframe tbody tr th:only-of-type {\n",
       "        vertical-align: middle;\n",
       "    }\n",
       "\n",
       "    .dataframe tbody tr th {\n",
       "        vertical-align: top;\n",
       "    }\n",
       "\n",
       "    .dataframe thead th {\n",
       "        text-align: right;\n",
       "    }\n",
       "</style>\n",
       "<table border=\"1\" class=\"dataframe\">\n",
       "  <thead>\n",
       "    <tr style=\"text-align: right;\">\n",
       "      <th></th>\n",
       "      <th>Profile</th>\n",
       "      <th>Message Count</th>\n",
       "    </tr>\n",
       "  </thead>\n",
       "  <tbody>\n",
       "    <tr>\n",
       "      <th>58</th>\n",
       "      <td>Wild Adventures Theme Park</td>\n",
       "      <td>955</td>\n",
       "    </tr>\n",
       "    <tr>\n",
       "      <th>21</th>\n",
       "      <td>Happy Hollow Park &amp; Zoo</td>\n",
       "      <td>627</td>\n",
       "    </tr>\n",
       "    <tr>\n",
       "      <th>11</th>\n",
       "      <td>Cedar Point</td>\n",
       "      <td>478</td>\n",
       "    </tr>\n",
       "    <tr>\n",
       "      <th>54</th>\n",
       "      <td>Walt Disney Studios (US)</td>\n",
       "      <td>450</td>\n",
       "    </tr>\n",
       "    <tr>\n",
       "      <th>31</th>\n",
       "      <td>Playland</td>\n",
       "      <td>446</td>\n",
       "    </tr>\n",
       "  </tbody>\n",
       "</table>\n",
       "</div>"
      ],
      "text/plain": [
       "                       Profile  Message Count\n",
       "58  Wild Adventures Theme Park            955\n",
       "21     Happy Hollow Park & Zoo            627\n",
       "11                 Cedar Point            478\n",
       "54    Walt Disney Studios (US)            450\n",
       "31                    Playland            446"
      ]
     },
     "execution_count": 421,
     "metadata": {},
     "output_type": "execute_result"
    }
   ],
   "source": [
    "# Counting the number of messages for each profile\n",
    "# messages_count = merged_themepark.groupby('Profile')['Message'].count().reset_index(name='Message Count')\n",
    "\n",
    "# Sorting the result in descending order of DataFram message_count\n",
    "# messages_count = messages_count.sort_values('Message Count', ascending=False)\n",
    "# messages_count.head()"
   ]
  },
  {
   "cell_type": "code",
   "execution_count": null,
   "metadata": {},
   "outputs": [
    {
     "data": {
      "text/plain": [
       "Profile\n",
       "Wild Adventures Theme Park                     955\n",
       "Happy Hollow Park & Zoo                        627\n",
       "Cedar Point                                    478\n",
       "Walt Disney Studios (US)                       450\n",
       "Playland                                       446\n",
       "Walt Disney Animation Studios                  432\n",
       "Fun Spot America                               414\n",
       "Belmont Park                                   408\n",
       "Knott's Berry Farm                             402\n",
       "Six Flags Discovery Kingdom                    401\n",
       "Busch Gardens Tampa Bay                        399\n",
       "Kings Island                                   396\n",
       "Busch Gardens Williamsburg                     396\n",
       "SeaWorld Orlando                               395\n",
       "SeaWorld San Diego                             388\n",
       "Hersheypark                                    383\n",
       "SkyPark at Santa's Village                     382\n",
       "Six Flags Great Adventure                      368\n",
       "Santa Cruz Beach Boardwalk                     351\n",
       "Lake Compounce                                 342\n",
       "Canada's Wonderland                            334\n",
       "Sea Life Park                                  334\n",
       "California's Great America                     332\n",
       "Silverwood Theme Park                          318\n",
       "Six Flags Great Escape and Hurricane Harbor    313\n",
       "Sesame Place San Diego                         306\n",
       "West Edmonton Mall                             305\n",
       "Universal Orlando Resort (US)                  304\n",
       "Six Flags                                      278\n",
       "Gilroy Gardens                                 254\n",
       "Disneyland Paris                               237\n",
       "Waterville USA                                 223\n",
       "Quassy Amusement & Waterpark                   213\n",
       "Six Flags Over Georgia & Hurricane Harbor      200\n",
       "Playland Park                                  200\n",
       "Six Flags Darien Lake                          194\n",
       "LEGOLAND California                            181\n",
       "Six Flags Magic Mountain                       177\n",
       "Six Flags Great America/Hurricane Harbor       152\n",
       "Elitch Gardens                                 144\n",
       "Disneyland                                     137\n",
       "Walt Disney World                              133\n",
       "Castles & Coasters                             133\n",
       "Pacific Park                                   121\n",
       "Enchanted Island Amusement Park                116\n",
       "ACN - America's Coaster Network                114\n",
       "Lake Winnie                                    106\n",
       "MarineLand                                      92\n",
       "Big Kahuna's NJ                                 92\n",
       "Centreville Amusement Park                      80\n",
       "SeaWorld                                        80\n",
       "Hurricane Harbor Oklahoma City                  77\n",
       "Calaway Park                                    76\n",
       "Glenwood Caverns Adventure Park                 68\n",
       "Universal Studios Hollywood                     67\n",
       "Santa's Workshop North Pole, Colorado           58\n",
       "Adventure City                                  30\n",
       "Funland Rehoboth Beach                          28\n",
       "Castles N Coasters                              23\n",
       "Name: count, dtype: int64"
      ]
     },
     "execution_count": 387,
     "metadata": {},
     "output_type": "execute_result"
    }
   ],
   "source": [
    "# merged_themepark_count = merged_themepark['Profile'].value_counts()\n",
    "# merged_themepark_count"
   ]
  },
  {
   "cell_type": "code",
   "execution_count": null,
   "metadata": {},
   "outputs": [
    {
     "data": {
      "text/html": [
       "<div>\n",
       "<style scoped>\n",
       "    .dataframe tbody tr th:only-of-type {\n",
       "        vertical-align: middle;\n",
       "    }\n",
       "\n",
       "    .dataframe tbody tr th {\n",
       "        vertical-align: top;\n",
       "    }\n",
       "\n",
       "    .dataframe thead th {\n",
       "        text-align: right;\n",
       "    }\n",
       "</style>\n",
       "<table border=\"1\" class=\"dataframe\">\n",
       "  <thead>\n",
       "    <tr style=\"text-align: right;\">\n",
       "      <th></th>\n",
       "      <th>Profile-ID</th>\n",
       "      <th>Post-ID</th>\n",
       "      <th>Profile</th>\n",
       "      <th>Message</th>\n",
       "      <th>Highest_Sentiment</th>\n",
       "      <th>New_Date</th>\n",
       "      <th>Time</th>\n",
       "      <th>Number of Reactions</th>\n",
       "      <th>Number of Comments (primary)</th>\n",
       "      <th>Number of Shares.1</th>\n",
       "      <th>Comments per post</th>\n",
       "      <th>Comments on posts by fans</th>\n",
       "      <th>Post interaction rate</th>\n",
       "      <th>Engagement</th>\n",
       "      <th>Number of Likes</th>\n",
       "      <th>Link-posts</th>\n",
       "      <th>Picture Posts</th>\n",
       "      <th>Video-posts</th>\n",
       "      <th>Link</th>\n",
       "      <th>Sentiments</th>\n",
       "    </tr>\n",
       "  </thead>\n",
       "  <tbody>\n",
       "    <tr>\n",
       "      <th>0</th>\n",
       "      <td>84679583132</td>\n",
       "      <td>84679583132_770120045161180</td>\n",
       "      <td>Wild Adventures Theme Park</td>\n",
       "      <td>🎟️🚨 Today's the FINAL day to use your 2023 Sea...</td>\n",
       "      <td>neu</td>\n",
       "      <td>2023-12-31</td>\n",
       "      <td>21:40:00</td>\n",
       "      <td>16.0</td>\n",
       "      <td>2.0</td>\n",
       "      <td>2.0</td>\n",
       "      <td>2.0</td>\n",
       "      <td>2.0</td>\n",
       "      <td>1,09E+12</td>\n",
       "      <td>1,09E+12</td>\n",
       "      <td>13.0</td>\n",
       "      <td>NaN</td>\n",
       "      <td>1.0</td>\n",
       "      <td>NaN</td>\n",
       "      <td>https://www.facebook.com/617429960430190/posts...</td>\n",
       "      <td>{'neg': 0.0, 'neu': 0.687, 'pos': 0.313}</td>\n",
       "    </tr>\n",
       "  </tbody>\n",
       "</table>\n",
       "</div>"
      ],
      "text/plain": [
       "    Profile-ID                      Post-ID                     Profile  \\\n",
       "0  84679583132  84679583132_770120045161180  Wild Adventures Theme Park   \n",
       "\n",
       "                                             Message Highest_Sentiment  \\\n",
       "0  🎟️🚨 Today's the FINAL day to use your 2023 Sea...               neu   \n",
       "\n",
       "     New_Date      Time  Number of Reactions  Number of Comments (primary)  \\\n",
       "0  2023-12-31  21:40:00                 16.0                           2.0   \n",
       "\n",
       "   Number of Shares.1  Comments per post  Comments on posts by fans  \\\n",
       "0                 2.0                2.0                        2.0   \n",
       "\n",
       "  Post interaction rate Engagement  Number of Likes  Link-posts  \\\n",
       "0              1,09E+12   1,09E+12             13.0         NaN   \n",
       "\n",
       "   Picture Posts  Video-posts  \\\n",
       "0            1.0          NaN   \n",
       "\n",
       "                                                Link  \\\n",
       "0  https://www.facebook.com/617429960430190/posts...   \n",
       "\n",
       "                                 Sentiments  \n",
       "0  {'neg': 0.0, 'neu': 0.687, 'pos': 0.313}  "
      ]
     },
     "execution_count": 388,
     "metadata": {},
     "output_type": "execute_result"
    }
   ],
   "source": [
    "# Show the final DataFrame\n",
    "merged_themepark.head(1)"
   ]
  },
  {
   "cell_type": "markdown",
   "metadata": {},
   "source": [
    "## 2. Sentiment Analysis"
   ]
  },
  {
   "cell_type": "code",
   "execution_count": null,
   "metadata": {},
   "outputs": [],
   "source": [
    "# Understand the sentiment of feature 'Message' by using sentiment analysis\n",
    "# Import library natural language toolkit\n",
    "import nltk\n",
    "from nltk.sentiment import SentimentIntensityAnalyzer"
   ]
  },
  {
   "cell_type": "code",
   "execution_count": null,
   "metadata": {},
   "outputs": [
    {
     "name": "stderr",
     "output_type": "stream",
     "text": [
      "[nltk_data] Downloading package vader_lexicon to\n",
      "[nltk_data]     C:\\Users\\yunus\\AppData\\Roaming\\nltk_data...\n",
      "[nltk_data]   Package vader_lexicon is already up-to-date!\n"
     ]
    }
   ],
   "source": [
    "# Download the VADER lexicon\n",
    "nltk.download('vader_lexicon')\n",
    "\n",
    "# Initialize the VADER sentiment intensity analyzer\n",
    "sia = SentimentIntensityAnalyzer()"
   ]
  },
  {
   "cell_type": "code",
   "execution_count": null,
   "metadata": {},
   "outputs": [
    {
     "name": "stdout",
     "output_type": "stream",
     "text": [
      "Message: Today's the FINAL day to use your 2023 Sea...\n",
      "Sentiment: {'neg': 0.0, 'neu': 1.0, 'pos': 0.0, 'compound': 0.0}\n",
      "\n",
      "Message: See you next year! 😊 Don't miss...\n",
      "Sentiment: {'neg': 0.0, 'neu': 1.0, 'pos': 0.0, 'compound': 0.0}\n",
      "\n",
      "Message: Don't miss our HUGE firework display! 🎆\n",
      "Sentiment: {'neg': 0.339, 'neu': 0.485, 'pos': 0.175, 'compound': -0.3297}\n",
      "\n"
     ]
    }
   ],
   "source": [
    "# Example messages to analyze\n",
    "messages = [\n",
    "    \"Today's the FINAL day to use your 2023 Sea...\",\n",
    "    \"See you next year! 😊 Don't miss...\",\n",
    "    \"Don't miss our HUGE firework display! 🎆\",\n",
    "    # Add all other messages here\n",
    "]\n",
    "\n",
    "# Function to analyze the sentiment of each message\n",
    "def analyze_sentiment(messages):\n",
    "    results = []\n",
    "    for message in messages:\n",
    "        # Get the sentiment scores for each message\n",
    "        sentiment_score = sia.polarity_scores(message)\n",
    "        results.append(sentiment_score)\n",
    "    return results\n",
    "\n",
    "# Call the function and print the results\n",
    "sentiment_results = analyze_sentiment(messages)\n",
    "for message, sentiment in zip(messages, sentiment_results):\n",
    "    print(f\"Message: {message}\")\n",
    "    print(f\"Sentiment: {sentiment}\\n\")"
   ]
  },
  {
   "cell_type": "code",
   "execution_count": 424,
   "metadata": {},
   "outputs": [
    {
     "name": "stderr",
     "output_type": "stream",
     "text": [
      "[nltk_data] Downloading package vader_lexicon to\n",
      "[nltk_data]     C:\\Users\\yunus\\AppData\\Roaming\\nltk_data...\n",
      "[nltk_data]   Package vader_lexicon is already up-to-date!\n"
     ]
    }
   ],
   "source": [
    "# Make sure you have the VADER lexicon downloaded\n",
    "nltk.download('vader_lexicon')\n",
    "\n",
    "# Initialize the VADER sentiment intensity analyzer\n",
    "sia = SentimentIntensityAnalyzer()\n",
    "\n",
    "# Assuming 'df' is your dataframe with a 'Message' column\n",
    "merged_themepark['Sentiments'] = merged_themepark['Message'].apply(lambda x: sia.polarity_scores(x))"
   ]
  },
  {
   "cell_type": "code",
   "execution_count": 425,
   "metadata": {},
   "outputs": [],
   "source": [
    "# Create a dataframe\n",
    "df_themepark = merged_themepark\n",
    "\n",
    "# Define a function to extract the highest sentiment\n",
    "def extract_highest_sentiment(sentiments):\n",
    "    # Exclude the 'compound' score as it's a combined score, not a separate sentiment\n",
    "    sentiments.pop('compound', None)\n",
    "    # Return the key with the highest value\n",
    "    return max(sentiments, key=sentiments.get)\n",
    "\n",
    "# Apply the function to the 'Sentiments' column to create the 'Highest_Sentiment' column\n",
    "df_themepark['Highest_Sentiment'] = df_themepark['Sentiments'].apply(extract_highest_sentiment)\n",
    "\n",
    "# Insert the 'Highest_Sentiment' column right after the 'Message' column\n",
    "message_col_index = df_themepark.columns.get_loc('Message')\n",
    "df_themepark.insert(message_col_index + 1, 'Highest_Sentiment', df_themepark.pop('Highest_Sentiment'))"
   ]
  },
  {
   "cell_type": "markdown",
   "metadata": {},
   "source": [
    "2.1 Create a new DataFrame that insert a new feature named: Highest_Sentiment"
   ]
  },
  {
   "cell_type": "code",
   "execution_count": 426,
   "metadata": {},
   "outputs": [
    {
     "data": {
      "text/html": [
       "<div>\n",
       "<style scoped>\n",
       "    .dataframe tbody tr th:only-of-type {\n",
       "        vertical-align: middle;\n",
       "    }\n",
       "\n",
       "    .dataframe tbody tr th {\n",
       "        vertical-align: top;\n",
       "    }\n",
       "\n",
       "    .dataframe thead th {\n",
       "        text-align: right;\n",
       "    }\n",
       "</style>\n",
       "<table border=\"1\" class=\"dataframe\">\n",
       "  <thead>\n",
       "    <tr style=\"text-align: right;\">\n",
       "      <th></th>\n",
       "      <th>Profile-ID</th>\n",
       "      <th>Post-ID</th>\n",
       "      <th>Profile</th>\n",
       "      <th>Message</th>\n",
       "      <th>Highest_Sentiment</th>\n",
       "      <th>New_Date</th>\n",
       "      <th>Time</th>\n",
       "      <th>Number of Reactions</th>\n",
       "      <th>Number of Comments (primary)</th>\n",
       "      <th>Number of Shares.1</th>\n",
       "      <th>Comments per post</th>\n",
       "      <th>Comments on posts by fans</th>\n",
       "      <th>Post interaction rate</th>\n",
       "      <th>Engagement</th>\n",
       "      <th>Number of Likes</th>\n",
       "      <th>Link-posts</th>\n",
       "      <th>Picture Posts</th>\n",
       "      <th>Video-posts</th>\n",
       "      <th>Link</th>\n",
       "      <th>Sentiments</th>\n",
       "    </tr>\n",
       "  </thead>\n",
       "  <tbody>\n",
       "    <tr>\n",
       "      <th>0</th>\n",
       "      <td>84679583132</td>\n",
       "      <td>84679583132_770120045161180</td>\n",
       "      <td>Wild Adventures Theme Park</td>\n",
       "      <td>🎟️🚨 Today's the FINAL day to use your 2023 Sea...</td>\n",
       "      <td>neu</td>\n",
       "      <td>2023-12-31</td>\n",
       "      <td>21:40:00</td>\n",
       "      <td>16.0</td>\n",
       "      <td>2.0</td>\n",
       "      <td>2.0</td>\n",
       "      <td>2.0</td>\n",
       "      <td>2.0</td>\n",
       "      <td>1,09E+12</td>\n",
       "      <td>1,09E+12</td>\n",
       "      <td>13.0</td>\n",
       "      <td>NaN</td>\n",
       "      <td>1.0</td>\n",
       "      <td>NaN</td>\n",
       "      <td>https://www.facebook.com/617429960430190/posts...</td>\n",
       "      <td>{'neg': 0.0, 'neu': 0.687, 'pos': 0.313}</td>\n",
       "    </tr>\n",
       "  </tbody>\n",
       "</table>\n",
       "</div>"
      ],
      "text/plain": [
       "    Profile-ID                      Post-ID                     Profile  \\\n",
       "0  84679583132  84679583132_770120045161180  Wild Adventures Theme Park   \n",
       "\n",
       "                                             Message Highest_Sentiment  \\\n",
       "0  🎟️🚨 Today's the FINAL day to use your 2023 Sea...               neu   \n",
       "\n",
       "     New_Date      Time  Number of Reactions  Number of Comments (primary)  \\\n",
       "0  2023-12-31  21:40:00                 16.0                           2.0   \n",
       "\n",
       "   Number of Shares.1  Comments per post  Comments on posts by fans  \\\n",
       "0                 2.0                2.0                        2.0   \n",
       "\n",
       "  Post interaction rate Engagement  Number of Likes  Link-posts  \\\n",
       "0              1,09E+12   1,09E+12             13.0         NaN   \n",
       "\n",
       "   Picture Posts  Video-posts  \\\n",
       "0            1.0          NaN   \n",
       "\n",
       "                                                Link  \\\n",
       "0  https://www.facebook.com/617429960430190/posts...   \n",
       "\n",
       "                                 Sentiments  \n",
       "0  {'neg': 0.0, 'neu': 0.687, 'pos': 0.313}  "
      ]
     },
     "execution_count": 426,
     "metadata": {},
     "output_type": "execute_result"
    }
   ],
   "source": [
    "df_themepark.head(1)"
   ]
  },
  {
   "cell_type": "code",
   "execution_count": null,
   "metadata": {},
   "outputs": [],
   "source": [
    "sentiment_counts = df_themepark['Highest_Sentiment'].value_counts()"
   ]
  },
  {
   "cell_type": "code",
   "execution_count": null,
   "metadata": {},
   "outputs": [
    {
     "data": {
      "text/plain": [
       "Highest_Sentiment\n",
       "neu    14331\n",
       "neg      863\n",
       "pos      249\n",
       "Name: count, dtype: int64"
      ]
     },
     "execution_count": 382,
     "metadata": {},
     "output_type": "execute_result"
    }
   ],
   "source": [
    "sentiment_counts"
   ]
  },
  {
   "cell_type": "markdown",
   "metadata": {},
   "source": [
    "The DataDrame sentiment_counts has the most neutral messages. What we found interesting is that negative messages be 2th. Therefore, we tend to analyze our sentiments and other features."
   ]
  },
  {
   "cell_type": "code",
   "execution_count": null,
   "metadata": {},
   "outputs": [],
   "source": [
    "# Splitting the dataframe\n",
    "df_neg = df_themepark[df_themepark['Highest_Sentiment'] == 'neg']\n",
    "df_neu = df_themepark[df_themepark['Highest_Sentiment'] == 'neu']\n",
    "df_pos = df_themepark[df_themepark['Highest_Sentiment'] == 'pos']"
   ]
  },
  {
   "cell_type": "code",
   "execution_count": null,
   "metadata": {},
   "outputs": [
    {
     "data": {
      "text/html": [
       "<div>\n",
       "<style scoped>\n",
       "    .dataframe tbody tr th:only-of-type {\n",
       "        vertical-align: middle;\n",
       "    }\n",
       "\n",
       "    .dataframe tbody tr th {\n",
       "        vertical-align: top;\n",
       "    }\n",
       "\n",
       "    .dataframe thead th {\n",
       "        text-align: right;\n",
       "    }\n",
       "</style>\n",
       "<table border=\"1\" class=\"dataframe\">\n",
       "  <thead>\n",
       "    <tr style=\"text-align: right;\">\n",
       "      <th></th>\n",
       "      <th>Number of Reactions</th>\n",
       "      <th>Number of Comments (primary)</th>\n",
       "      <th>Number of Shares.1</th>\n",
       "      <th>Comments per post</th>\n",
       "      <th>Comments on posts by fans</th>\n",
       "      <th>Number of Likes</th>\n",
       "      <th>Link-posts</th>\n",
       "      <th>Picture Posts</th>\n",
       "      <th>Video-posts</th>\n",
       "    </tr>\n",
       "  </thead>\n",
       "  <tbody>\n",
       "    <tr>\n",
       "      <th>count</th>\n",
       "      <td>14331.000000</td>\n",
       "      <td>14331.000000</td>\n",
       "      <td>14331.000000</td>\n",
       "      <td>14331.000000</td>\n",
       "      <td>14331.000000</td>\n",
       "      <td>14331.000000</td>\n",
       "      <td>510.0</td>\n",
       "      <td>10667.0</td>\n",
       "      <td>2358.0</td>\n",
       "    </tr>\n",
       "    <tr>\n",
       "      <th>mean</th>\n",
       "      <td>487.070756</td>\n",
       "      <td>34.174517</td>\n",
       "      <td>62.403391</td>\n",
       "      <td>52.264741</td>\n",
       "      <td>52.264741</td>\n",
       "      <td>349.879980</td>\n",
       "      <td>1.0</td>\n",
       "      <td>1.0</td>\n",
       "      <td>1.0</td>\n",
       "    </tr>\n",
       "    <tr>\n",
       "      <th>std</th>\n",
       "      <td>3817.262891</td>\n",
       "      <td>186.160289</td>\n",
       "      <td>521.417434</td>\n",
       "      <td>268.604545</td>\n",
       "      <td>268.604545</td>\n",
       "      <td>2574.086578</td>\n",
       "      <td>0.0</td>\n",
       "      <td>0.0</td>\n",
       "      <td>0.0</td>\n",
       "    </tr>\n",
       "    <tr>\n",
       "      <th>min</th>\n",
       "      <td>0.000000</td>\n",
       "      <td>0.000000</td>\n",
       "      <td>0.000000</td>\n",
       "      <td>0.000000</td>\n",
       "      <td>0.000000</td>\n",
       "      <td>0.000000</td>\n",
       "      <td>1.0</td>\n",
       "      <td>1.0</td>\n",
       "      <td>1.0</td>\n",
       "    </tr>\n",
       "    <tr>\n",
       "      <th>25%</th>\n",
       "      <td>23.000000</td>\n",
       "      <td>1.000000</td>\n",
       "      <td>2.000000</td>\n",
       "      <td>1.000000</td>\n",
       "      <td>1.000000</td>\n",
       "      <td>19.500000</td>\n",
       "      <td>1.0</td>\n",
       "      <td>1.0</td>\n",
       "      <td>1.0</td>\n",
       "    </tr>\n",
       "    <tr>\n",
       "      <th>50%</th>\n",
       "      <td>68.000000</td>\n",
       "      <td>6.000000</td>\n",
       "      <td>6.000000</td>\n",
       "      <td>8.000000</td>\n",
       "      <td>8.000000</td>\n",
       "      <td>56.000000</td>\n",
       "      <td>1.0</td>\n",
       "      <td>1.0</td>\n",
       "      <td>1.0</td>\n",
       "    </tr>\n",
       "    <tr>\n",
       "      <th>75%</th>\n",
       "      <td>215.000000</td>\n",
       "      <td>18.000000</td>\n",
       "      <td>22.000000</td>\n",
       "      <td>27.000000</td>\n",
       "      <td>27.000000</td>\n",
       "      <td>176.000000</td>\n",
       "      <td>1.0</td>\n",
       "      <td>1.0</td>\n",
       "      <td>1.0</td>\n",
       "    </tr>\n",
       "    <tr>\n",
       "      <th>max</th>\n",
       "      <td>210756.000000</td>\n",
       "      <td>8379.000000</td>\n",
       "      <td>30762.000000</td>\n",
       "      <td>11170.000000</td>\n",
       "      <td>11170.000000</td>\n",
       "      <td>124591.000000</td>\n",
       "      <td>1.0</td>\n",
       "      <td>1.0</td>\n",
       "      <td>1.0</td>\n",
       "    </tr>\n",
       "  </tbody>\n",
       "</table>\n",
       "</div>"
      ],
      "text/plain": [
       "       Number of Reactions  Number of Comments (primary)  Number of Shares.1  \\\n",
       "count         14331.000000                  14331.000000        14331.000000   \n",
       "mean            487.070756                     34.174517           62.403391   \n",
       "std            3817.262891                    186.160289          521.417434   \n",
       "min               0.000000                      0.000000            0.000000   \n",
       "25%              23.000000                      1.000000            2.000000   \n",
       "50%              68.000000                      6.000000            6.000000   \n",
       "75%             215.000000                     18.000000           22.000000   \n",
       "max          210756.000000                   8379.000000        30762.000000   \n",
       "\n",
       "       Comments per post  Comments on posts by fans  Number of Likes  \\\n",
       "count       14331.000000               14331.000000     14331.000000   \n",
       "mean           52.264741                  52.264741       349.879980   \n",
       "std           268.604545                 268.604545      2574.086578   \n",
       "min             0.000000                   0.000000         0.000000   \n",
       "25%             1.000000                   1.000000        19.500000   \n",
       "50%             8.000000                   8.000000        56.000000   \n",
       "75%            27.000000                  27.000000       176.000000   \n",
       "max         11170.000000               11170.000000    124591.000000   \n",
       "\n",
       "       Link-posts  Picture Posts  Video-posts  \n",
       "count       510.0        10667.0       2358.0  \n",
       "mean          1.0            1.0          1.0  \n",
       "std           0.0            0.0          0.0  \n",
       "min           1.0            1.0          1.0  \n",
       "25%           1.0            1.0          1.0  \n",
       "50%           1.0            1.0          1.0  \n",
       "75%           1.0            1.0          1.0  \n",
       "max           1.0            1.0          1.0  "
      ]
     },
     "execution_count": 384,
     "metadata": {},
     "output_type": "execute_result"
    }
   ],
   "source": [
    "df_neu.describe()"
   ]
  },
  {
   "cell_type": "markdown",
   "metadata": {},
   "source": [
    "- Records the engagement metrics for approximately 14,331 entries\n",
    "- On average, there are about 487 reactions per entry with a wide variance\n",
    "- Comments seem less frequent, averaging around 34 per entry, but with some entries reaching into the thousand\n",
    "- The mean number of shares is higher than comments, suggesting shares might be a more common form of engagement in this dataset\n",
    "- Comments per post, likes, and other types of posts have a broad range of values but generally follow the trends of reactions and shares"
   ]
  },
  {
   "cell_type": "code",
   "execution_count": null,
   "metadata": {},
   "outputs": [
    {
     "data": {
      "text/html": [
       "<div>\n",
       "<style scoped>\n",
       "    .dataframe tbody tr th:only-of-type {\n",
       "        vertical-align: middle;\n",
       "    }\n",
       "\n",
       "    .dataframe tbody tr th {\n",
       "        vertical-align: top;\n",
       "    }\n",
       "\n",
       "    .dataframe thead th {\n",
       "        text-align: right;\n",
       "    }\n",
       "</style>\n",
       "<table border=\"1\" class=\"dataframe\">\n",
       "  <thead>\n",
       "    <tr style=\"text-align: right;\">\n",
       "      <th></th>\n",
       "      <th>Number of Reactions</th>\n",
       "      <th>Number of Comments (primary)</th>\n",
       "      <th>Number of Shares.1</th>\n",
       "      <th>Comments per post</th>\n",
       "      <th>Comments on posts by fans</th>\n",
       "      <th>Number of Likes</th>\n",
       "      <th>Link-posts</th>\n",
       "      <th>Picture Posts</th>\n",
       "      <th>Video-posts</th>\n",
       "    </tr>\n",
       "  </thead>\n",
       "  <tbody>\n",
       "    <tr>\n",
       "      <th>count</th>\n",
       "      <td>863.000000</td>\n",
       "      <td>863.000000</td>\n",
       "      <td>863.000000</td>\n",
       "      <td>863.000000</td>\n",
       "      <td>863.000000</td>\n",
       "      <td>863.000000</td>\n",
       "      <td>39.0</td>\n",
       "      <td>720.0</td>\n",
       "      <td>74.0</td>\n",
       "    </tr>\n",
       "    <tr>\n",
       "      <th>mean</th>\n",
       "      <td>557.965238</td>\n",
       "      <td>36.792584</td>\n",
       "      <td>46.438007</td>\n",
       "      <td>67.844728</td>\n",
       "      <td>67.844728</td>\n",
       "      <td>411.891078</td>\n",
       "      <td>1.0</td>\n",
       "      <td>1.0</td>\n",
       "      <td>1.0</td>\n",
       "    </tr>\n",
       "    <tr>\n",
       "      <th>std</th>\n",
       "      <td>1978.230677</td>\n",
       "      <td>137.538343</td>\n",
       "      <td>183.290453</td>\n",
       "      <td>254.223181</td>\n",
       "      <td>254.223181</td>\n",
       "      <td>1449.451172</td>\n",
       "      <td>0.0</td>\n",
       "      <td>0.0</td>\n",
       "      <td>0.0</td>\n",
       "    </tr>\n",
       "    <tr>\n",
       "      <th>min</th>\n",
       "      <td>0.000000</td>\n",
       "      <td>0.000000</td>\n",
       "      <td>0.000000</td>\n",
       "      <td>0.000000</td>\n",
       "      <td>0.000000</td>\n",
       "      <td>0.000000</td>\n",
       "      <td>1.0</td>\n",
       "      <td>1.0</td>\n",
       "      <td>1.0</td>\n",
       "    </tr>\n",
       "    <tr>\n",
       "      <th>25%</th>\n",
       "      <td>12.000000</td>\n",
       "      <td>0.000000</td>\n",
       "      <td>0.000000</td>\n",
       "      <td>0.000000</td>\n",
       "      <td>0.000000</td>\n",
       "      <td>10.000000</td>\n",
       "      <td>1.0</td>\n",
       "      <td>1.0</td>\n",
       "      <td>1.0</td>\n",
       "    </tr>\n",
       "    <tr>\n",
       "      <th>50%</th>\n",
       "      <td>38.000000</td>\n",
       "      <td>2.000000</td>\n",
       "      <td>3.000000</td>\n",
       "      <td>3.000000</td>\n",
       "      <td>3.000000</td>\n",
       "      <td>32.000000</td>\n",
       "      <td>1.0</td>\n",
       "      <td>1.0</td>\n",
       "      <td>1.0</td>\n",
       "    </tr>\n",
       "    <tr>\n",
       "      <th>75%</th>\n",
       "      <td>226.000000</td>\n",
       "      <td>13.000000</td>\n",
       "      <td>15.000000</td>\n",
       "      <td>19.000000</td>\n",
       "      <td>19.000000</td>\n",
       "      <td>183.000000</td>\n",
       "      <td>1.0</td>\n",
       "      <td>1.0</td>\n",
       "      <td>1.0</td>\n",
       "    </tr>\n",
       "    <tr>\n",
       "      <th>max</th>\n",
       "      <td>26908.000000</td>\n",
       "      <td>1707.000000</td>\n",
       "      <td>2102.000000</td>\n",
       "      <td>2908.000000</td>\n",
       "      <td>2908.000000</td>\n",
       "      <td>21444.000000</td>\n",
       "      <td>1.0</td>\n",
       "      <td>1.0</td>\n",
       "      <td>1.0</td>\n",
       "    </tr>\n",
       "  </tbody>\n",
       "</table>\n",
       "</div>"
      ],
      "text/plain": [
       "       Number of Reactions  Number of Comments (primary)  Number of Shares.1  \\\n",
       "count           863.000000                    863.000000          863.000000   \n",
       "mean            557.965238                     36.792584           46.438007   \n",
       "std            1978.230677                    137.538343          183.290453   \n",
       "min               0.000000                      0.000000            0.000000   \n",
       "25%              12.000000                      0.000000            0.000000   \n",
       "50%              38.000000                      2.000000            3.000000   \n",
       "75%             226.000000                     13.000000           15.000000   \n",
       "max           26908.000000                   1707.000000         2102.000000   \n",
       "\n",
       "       Comments per post  Comments on posts by fans  Number of Likes  \\\n",
       "count         863.000000                 863.000000       863.000000   \n",
       "mean           67.844728                  67.844728       411.891078   \n",
       "std           254.223181                 254.223181      1449.451172   \n",
       "min             0.000000                   0.000000         0.000000   \n",
       "25%             0.000000                   0.000000        10.000000   \n",
       "50%             3.000000                   3.000000        32.000000   \n",
       "75%            19.000000                  19.000000       183.000000   \n",
       "max          2908.000000                2908.000000     21444.000000   \n",
       "\n",
       "       Link-posts  Picture Posts  Video-posts  \n",
       "count        39.0          720.0         74.0  \n",
       "mean          1.0            1.0          1.0  \n",
       "std           0.0            0.0          0.0  \n",
       "min           1.0            1.0          1.0  \n",
       "25%           1.0            1.0          1.0  \n",
       "50%           1.0            1.0          1.0  \n",
       "75%           1.0            1.0          1.0  \n",
       "max           1.0            1.0          1.0  "
      ]
     },
     "execution_count": 385,
     "metadata": {},
     "output_type": "execute_result"
    }
   ],
   "source": [
    "df_neg.describe()"
   ]
  },
  {
   "cell_type": "markdown",
   "metadata": {},
   "source": [
    "- Consists of 863 entries with engagement metrics\n",
    "- Entries receive a higher average number of reactions than the first dataset, around 558, but the total count is much lower\n",
    "- The distribution of reactions and comments suggests more variance with a higher average but lower total count compared to the first dataset\n",
    "- This dataset also measures comments per post, comments by fans, likes, and the number of specific post types (link, picture, video), with each category having its own range and distribution\n"
   ]
  },
  {
   "cell_type": "code",
   "execution_count": null,
   "metadata": {},
   "outputs": [
    {
     "data": {
      "text/html": [
       "<div>\n",
       "<style scoped>\n",
       "    .dataframe tbody tr th:only-of-type {\n",
       "        vertical-align: middle;\n",
       "    }\n",
       "\n",
       "    .dataframe tbody tr th {\n",
       "        vertical-align: top;\n",
       "    }\n",
       "\n",
       "    .dataframe thead th {\n",
       "        text-align: right;\n",
       "    }\n",
       "</style>\n",
       "<table border=\"1\" class=\"dataframe\">\n",
       "  <thead>\n",
       "    <tr style=\"text-align: right;\">\n",
       "      <th></th>\n",
       "      <th>Number of Reactions</th>\n",
       "      <th>Number of Comments (primary)</th>\n",
       "      <th>Number of Shares.1</th>\n",
       "      <th>Comments per post</th>\n",
       "      <th>Comments on posts by fans</th>\n",
       "      <th>Number of Likes</th>\n",
       "      <th>Link-posts</th>\n",
       "      <th>Picture Posts</th>\n",
       "      <th>Video-posts</th>\n",
       "    </tr>\n",
       "  </thead>\n",
       "  <tbody>\n",
       "    <tr>\n",
       "      <th>count</th>\n",
       "      <td>249.000000</td>\n",
       "      <td>249.000000</td>\n",
       "      <td>249.000000</td>\n",
       "      <td>249.000000</td>\n",
       "      <td>249.000000</td>\n",
       "      <td>249.000000</td>\n",
       "      <td>6.0</td>\n",
       "      <td>175.0</td>\n",
       "      <td>47.0</td>\n",
       "    </tr>\n",
       "    <tr>\n",
       "      <th>mean</th>\n",
       "      <td>688.658635</td>\n",
       "      <td>26.662651</td>\n",
       "      <td>97.574297</td>\n",
       "      <td>41.060241</td>\n",
       "      <td>41.060241</td>\n",
       "      <td>499.851406</td>\n",
       "      <td>1.0</td>\n",
       "      <td>1.0</td>\n",
       "      <td>1.0</td>\n",
       "    </tr>\n",
       "    <tr>\n",
       "      <th>std</th>\n",
       "      <td>2162.006160</td>\n",
       "      <td>58.953428</td>\n",
       "      <td>485.962575</td>\n",
       "      <td>91.346869</td>\n",
       "      <td>91.346869</td>\n",
       "      <td>1437.272363</td>\n",
       "      <td>0.0</td>\n",
       "      <td>0.0</td>\n",
       "      <td>0.0</td>\n",
       "    </tr>\n",
       "    <tr>\n",
       "      <th>min</th>\n",
       "      <td>0.000000</td>\n",
       "      <td>0.000000</td>\n",
       "      <td>0.000000</td>\n",
       "      <td>0.000000</td>\n",
       "      <td>0.000000</td>\n",
       "      <td>0.000000</td>\n",
       "      <td>1.0</td>\n",
       "      <td>1.0</td>\n",
       "      <td>1.0</td>\n",
       "    </tr>\n",
       "    <tr>\n",
       "      <th>25%</th>\n",
       "      <td>25.000000</td>\n",
       "      <td>1.000000</td>\n",
       "      <td>1.000000</td>\n",
       "      <td>2.000000</td>\n",
       "      <td>2.000000</td>\n",
       "      <td>22.000000</td>\n",
       "      <td>1.0</td>\n",
       "      <td>1.0</td>\n",
       "      <td>1.0</td>\n",
       "    </tr>\n",
       "    <tr>\n",
       "      <th>50%</th>\n",
       "      <td>83.000000</td>\n",
       "      <td>6.000000</td>\n",
       "      <td>5.000000</td>\n",
       "      <td>7.000000</td>\n",
       "      <td>7.000000</td>\n",
       "      <td>68.000000</td>\n",
       "      <td>1.0</td>\n",
       "      <td>1.0</td>\n",
       "      <td>1.0</td>\n",
       "    </tr>\n",
       "    <tr>\n",
       "      <th>75%</th>\n",
       "      <td>412.000000</td>\n",
       "      <td>23.000000</td>\n",
       "      <td>29.000000</td>\n",
       "      <td>37.000000</td>\n",
       "      <td>37.000000</td>\n",
       "      <td>322.000000</td>\n",
       "      <td>1.0</td>\n",
       "      <td>1.0</td>\n",
       "      <td>1.0</td>\n",
       "    </tr>\n",
       "    <tr>\n",
       "      <th>max</th>\n",
       "      <td>22625.000000</td>\n",
       "      <td>417.000000</td>\n",
       "      <td>6314.000000</td>\n",
       "      <td>671.000000</td>\n",
       "      <td>671.000000</td>\n",
       "      <td>12182.000000</td>\n",
       "      <td>1.0</td>\n",
       "      <td>1.0</td>\n",
       "      <td>1.0</td>\n",
       "    </tr>\n",
       "  </tbody>\n",
       "</table>\n",
       "</div>"
      ],
      "text/plain": [
       "       Number of Reactions  Number of Comments (primary)  Number of Shares.1  \\\n",
       "count           249.000000                    249.000000          249.000000   \n",
       "mean            688.658635                     26.662651           97.574297   \n",
       "std            2162.006160                     58.953428          485.962575   \n",
       "min               0.000000                      0.000000            0.000000   \n",
       "25%              25.000000                      1.000000            1.000000   \n",
       "50%              83.000000                      6.000000            5.000000   \n",
       "75%             412.000000                     23.000000           29.000000   \n",
       "max           22625.000000                    417.000000         6314.000000   \n",
       "\n",
       "       Comments per post  Comments on posts by fans  Number of Likes  \\\n",
       "count         249.000000                 249.000000       249.000000   \n",
       "mean           41.060241                  41.060241       499.851406   \n",
       "std            91.346869                  91.346869      1437.272363   \n",
       "min             0.000000                   0.000000         0.000000   \n",
       "25%             2.000000                   2.000000        22.000000   \n",
       "50%             7.000000                   7.000000        68.000000   \n",
       "75%            37.000000                  37.000000       322.000000   \n",
       "max           671.000000                 671.000000     12182.000000   \n",
       "\n",
       "       Link-posts  Picture Posts  Video-posts  \n",
       "count         6.0          175.0         47.0  \n",
       "mean          1.0            1.0          1.0  \n",
       "std           0.0            0.0          0.0  \n",
       "min           1.0            1.0          1.0  \n",
       "25%           1.0            1.0          1.0  \n",
       "50%           1.0            1.0          1.0  \n",
       "75%           1.0            1.0          1.0  \n",
       "max           1.0            1.0          1.0  "
      ]
     },
     "execution_count": 386,
     "metadata": {},
     "output_type": "execute_result"
    }
   ],
   "source": [
    "df_pos.describe()"
   ]
  },
  {
   "cell_type": "markdown",
   "metadata": {},
   "source": [
    "- Has a total of 249 entries, which is smaller than the other two datasets\n",
    "- The average reactions per entry are the highest among the three datasets at about 689, but with considerable variability\n",
    "- The number of comments and shares per entry also shows a high mean value, indicating a possibly engaged audience\n",
    "- Similar to the other datasets, there is a count of different post types, with likes again showing a high mean, suggesting that 'likes' are a common interaction\n"
   ]
  }
 ],
 "metadata": {
  "kernelspec": {
   "display_name": "base",
   "language": "python",
   "name": "python3"
  },
  "language_info": {
   "codemirror_mode": {
    "name": "ipython",
    "version": 3
   },
   "file_extension": ".py",
   "mimetype": "text/x-python",
   "name": "python",
   "nbconvert_exporter": "python",
   "pygments_lexer": "ipython3",
   "version": "3.11.4"
  }
 },
 "nbformat": 4,
 "nbformat_minor": 2
}
